{
 "cells": [
  {
   "cell_type": "markdown",
   "metadata": {},
   "source": [
    "# Preprocessing\n",
    "\n",
    "Tahapan untuk membersikan, menyeimbangkan, dan membagi data untuk dilatih dan dites."
   ]
  },
  {
   "cell_type": "code",
   "execution_count": 7,
   "metadata": {},
   "outputs": [],
   "source": [
    "import orchest\n",
    "from sklearn.model_selection import train_test_split\n",
    "from sklearn.pipeline import Pipeline\n",
    "from sklearn.preprocessing import MinMaxScaler"
   ]
  },
  {
   "cell_type": "code",
   "execution_count": 8,
   "metadata": {},
   "outputs": [
    {
     "name": "stderr",
     "output_type": "stream",
     "text": [
      "WARNING: Calling `get_inputs` more than once is likely to cause issues when running your pipeline as a job. After the input data is retrieved it is slated for eviction, causing the data to no longer be available for subsequent calls to `get_inputs`. Refer to the docs at https://docs.orchest.io/en/latest/fundamentals/data_passing.html#data-passing for more info. To silence all warnings related to calling data transfer functions multiple times, set orchest.Config.silence_multiple_data_transfer_calls_warning to True.\n"
     ]
    }
   ],
   "source": [
    "# Retrieve the data from the previous step.\n",
    "data = orchest.get_inputs()  # data = [(df_data, df_target)]\n",
    "X, y = data[\"data\"]"
   ]
  },
  {
   "cell_type": "code",
   "execution_count": 10,
   "metadata": {},
   "outputs": [
    {
     "name": "stdout",
     "output_type": "stream",
     "text": [
      "Scaling the data...\n"
     ]
    }
   ],
   "source": [
    "# Print messages are useful when you are keeping an eye on the logs of\n",
    "# a pipeline step.\n",
    "print(\"Scaling the data...\")\n",
    "\n",
    "scaler = MinMaxScaler()\n",
    "\n",
    "X_train, X_test, y_train, y_test = train_test_split(X.values, y, test_size=0.20)\n",
    "X_train = scaler.fit_transform(X_train)\n",
    "X_test = scaler.transform(X_test)"
   ]
  },
  {
   "cell_type": "code",
   "execution_count": 11,
   "metadata": {},
   "outputs": [],
   "source": [
    "orchest.output((X_train, y_train, X_test, y_test), name=\"training_data\")"
   ]
  }
 ],
 "metadata": {
  "kernelspec": {
   "display_name": "Python 3",
   "language": "python",
   "name": "orchest-kernel-6d002f97-eead-41d4-8c05-ee2d71eff798"
  },
  "language_info": {
   "codemirror_mode": {
    "name": "ipython",
    "version": 3
   },
   "file_extension": ".py",
   "mimetype": "text/x-python",
   "name": "python",
   "nbconvert_exporter": "python",
   "pygments_lexer": "ipython3",
   "version": "3.9.10"
  }
 },
 "nbformat": 4,
 "nbformat_minor": 4
}
