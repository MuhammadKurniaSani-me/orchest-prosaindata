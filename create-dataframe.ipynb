{
 "cells": [
  {
   "cell_type": "markdown",
   "metadata": {},
   "source": [
    "# Create Data\n",
    "\n",
    "Ambil, gabungkan, dan buat kolom dari setiap sumber Database."
   ]
  },
  {
   "cell_type": "code",
   "execution_count": null,
   "metadata": {},
   "outputs": [],
   "source": [
    "print(\"Collecting and Joinning data from each database source...\")"
   ]
  },
  {
   "cell_type": "code",
   "execution_count": 7,
   "metadata": {},
   "outputs": [],
   "source": [
    "import orchest\n",
    "import pandas as pd\n",
    "from sklearn import preprocessing"
   ]
  },
  {
   "cell_type": "code",
   "execution_count": 8,
   "metadata": {},
   "outputs": [
    {
     "name": "stderr",
     "output_type": "stream",
     "text": [
      "WARNING: Calling `get_inputs` more than once is likely to cause issues when running your pipeline as a job. After the input data is retrieved it is slated for eviction, causing the data to no longer be available for subsequent calls to `get_inputs`. Refer to the docs at https://docs.orchest.io/en/latest/fundamentals/data_passing.html#data-passing for more info. To silence all warnings related to calling data transfer functions multiple times, set orchest.Config.silence_multiple_data_transfer_calls_warning to True.\n"
     ]
    }
   ],
   "source": [
    "data = orchest.get_inputs()\n",
    "Id, sepal_length = data[\"id_and_sepal_length_columns\"]\n",
    "sepal_length, petal_width = data[\"sepal_width_petal_length\"]\n",
    "petal_width, variaty = data[\"petal_width_variety_series\"]"
   ]
  },
  {
   "cell_type": "code",
   "execution_count": 9,
   "metadata": {},
   "outputs": [],
   "source": [
    "column_name = [\"id\", \"sepal_length\", \"sepal_length\", \"petal_width\", \"petal_width\", \"variety\"]\n",
    "df = pd.concat([Id, sepal_length, sepal_length, petal_width, petal_width, variaty], axis=1)\n",
    "df.columns = column_name"
   ]
  },
  {
   "cell_type": "code",
   "execution_count": 10,
   "metadata": {},
   "outputs": [],
   "source": [
    "X = df.drop(columns = \"variety\")\n",
    "y = df[\"variety\"]"
   ]
  },
  {
   "cell_type": "code",
   "execution_count": 13,
   "metadata": {},
   "outputs": [
    {
     "name": "stdout",
     "output_type": "stream",
     "text": [
      "Encoding the class name....\n"
     ]
    }
   ],
   "source": [
    "print(\"Encoding the class name....\")\n",
    "\n",
    "le = preprocessing.LabelEncoder()\n",
    "y = le.fit_transform(y)"
   ]
  },
  {
   "cell_type": "code",
   "execution_count": 14,
   "metadata": {},
   "outputs": [],
   "source": [
    "orchest.output((X, y), name=\"data\")"
   ]
  }
 ],
 "metadata": {
  "kernelspec": {
   "display_name": "Python 3",
   "language": "python",
   "name": "orchest-kernel-6d002f97-eead-41d4-8c05-ee2d71eff798"
  },
  "language_info": {
   "codemirror_mode": {
    "name": "ipython",
    "version": 3
   },
   "file_extension": ".py",
   "mimetype": "text/x-python",
   "name": "python",
   "nbconvert_exporter": "python",
   "pygments_lexer": "ipython3",
   "version": "3.9.10"
  }
 },
 "nbformat": 4,
 "nbformat_minor": 4
}
