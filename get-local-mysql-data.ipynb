{
 "cells": [
  {
   "cell_type": "markdown",
   "metadata": {},
   "source": [
    "# Get Data (MySQL + NGROK)\n",
    "\n",
    "Ambil data dari Database lokal MySQL yang dihost dengan NGROK."
   ]
  },
  {
   "cell_type": "code",
   "execution_count": 1,
   "metadata": {},
   "outputs": [
    {
     "name": "stdout",
     "output_type": "stream",
     "text": [
      "Getting data from local MySQL via ngrok...\n"
     ]
    }
   ],
   "source": [
    "print(\"Getting data from local MySQL via ngrok...\")"
   ]
  },
  {
   "cell_type": "code",
   "execution_count": 50,
   "metadata": {
    "tags": []
   },
   "outputs": [],
   "source": [
    "import orchest\n",
    "import pandas as pd\n",
    "\n",
    "from sklearn import datasets\n",
    "import os\n",
    "import urllib.parse as up\n",
    "import psycopg2\n",
    "import mysql.connector\n",
    "import sqlalchemy as db\n",
    "from sqlalchemy import create_engine\n",
    "import pymysql"
   ]
  },
  {
   "cell_type": "code",
   "execution_count": 51,
   "metadata": {},
   "outputs": [],
   "source": [
    "url = \"0.tcp.ap.ngrok.io:15300\"\n",
    "engine_mariadb = create_engine(f\"mariadb+pymysql://root:@{url}/prosain200411100046\")\n",
    "connection_mariadb = engine_mariadb.connect()\n",
    "metadata_mariadb = db.MetaData()\n",
    "mariadb_db = db.Table('iris_data', metadata_mariadb, autoload=True, autoload_with=engine_mariadb)"
   ]
  },
  {
   "cell_type": "code",
   "execution_count": 54,
   "metadata": {},
   "outputs": [],
   "source": [
    "query_id_and_sepal_width_columns = db.select([mariadb_db.columns.id, mariadb_db.columns.sepal_length])\n",
    "id_and_sepal_length_columns = connection_mariadb.execute(query_id_and_sepal_width_columns).fetchall()\n",
    "id_and_sepal_length_columns = pd.DataFrame(id_and_sepal_length_columns)\n",
    "id_columns = id_and_sepal_length_columns[\"id\"]\n",
    "sepal_length_columns = id_and_sepal_length_columns[\"sepal_length\"]"
   ]
  },
  {
   "cell_type": "code",
   "execution_count": 55,
   "metadata": {
    "tags": []
   },
   "outputs": [],
   "source": [
    "orchest.output((id_columns, sepal_length_columns), name=\"id_and_sepal_length_columns\")"
   ]
  },
  {
   "cell_type": "code",
   "execution_count": 47,
   "metadata": {
    "tags": []
   },
   "outputs": [
    {
     "name": "stdout",
     "output_type": "stream",
     "text": [
      "Success getting data from local MySQL via ngrok\n"
     ]
    }
   ],
   "source": [
    "print(\"Success getting data from local MySQL via ngrok\")"
   ]
  }
 ],
 "metadata": {
  "kernelspec": {
   "display_name": "Python 3",
   "language": "python",
   "name": "orchest-kernel-6d002f97-eead-41d4-8c05-ee2d71eff798"
  },
  "language_info": {
   "codemirror_mode": {
    "name": "ipython",
    "version": 3
   },
   "file_extension": ".py",
   "mimetype": "text/x-python",
   "name": "python",
   "nbconvert_exporter": "python",
   "pygments_lexer": "ipython3",
   "version": "3.9.10"
  }
 },
 "nbformat": 4,
 "nbformat_minor": 4
}
