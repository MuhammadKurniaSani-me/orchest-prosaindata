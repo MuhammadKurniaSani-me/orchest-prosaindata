{
 "cells": [
  {
   "cell_type": "markdown",
   "metadata": {},
   "source": [
    "# Collect results\n",
    "\n",
    "Lihat model dengan nilai error terkecil."
   ]
  },
  {
   "cell_type": "code",
   "execution_count": 1,
   "metadata": {},
   "outputs": [],
   "source": [
    "import orchest"
   ]
  },
  {
   "cell_type": "code",
   "execution_count": 2,
   "metadata": {},
   "outputs": [],
   "source": [
    "data = orchest.get_inputs()"
   ]
  },
  {
   "cell_type": "code",
   "execution_count": 4,
   "metadata": {},
   "outputs": [
    {
     "name": "stdout",
     "output_type": "stream",
     "text": [
      "Nilai Eror\n",
      "\n",
      "svm-regressor-rmse             0.11907818623632581\n",
      "\n",
      "linear-regression-rmse         0.1726809484240418\n",
      "\n",
      "pca-regressor-rmse             0.5440880558327473\n",
      "\n",
      "decision-tree-regressor-rmse   0.0\n"
     ]
    }
   ],
   "source": [
    "print(\"Nilai Eror\")\n",
    "for name, value in data.items():\n",
    "    if name != \"unnamed\":\n",
    "        print(f\"\\n{name:30} {value}\")"
   ]
  }
 ],
 "metadata": {
  "kernelspec": {
   "display_name": "Python 3",
   "language": "python",
   "name": "orchest-kernel-6d002f97-eead-41d4-8c05-ee2d71eff798"
  },
  "language_info": {
   "codemirror_mode": {
    "name": "ipython",
    "version": 3
   },
   "file_extension": ".py",
   "mimetype": "text/x-python",
   "name": "python",
   "nbconvert_exporter": "python",
   "pygments_lexer": "ipython3",
   "version": "3.9.10"
  }
 },
 "nbformat": 4,
 "nbformat_minor": 4
}
